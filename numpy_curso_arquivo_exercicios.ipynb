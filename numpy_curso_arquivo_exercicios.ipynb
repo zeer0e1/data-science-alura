{
  "nbformat": 4,
  "nbformat_minor": 0,
  "metadata": {
    "colab": {
      "provenance": [],
      "authorship_tag": "ABX9TyMUDNXbc6En8R01Jb9I44js",
      "include_colab_link": true
    },
    "kernelspec": {
      "name": "python3",
      "display_name": "Python 3"
    },
    "language_info": {
      "name": "python"
    }
  },
  "cells": [
    {
      "cell_type": "markdown",
      "metadata": {
        "id": "view-in-github",
        "colab_type": "text"
      },
      "source": [
        "<a href=\"https://colab.research.google.com/github/zeer0e1/data-science-alura/blob/main/numpy_curso_arquivo_exercicios.ipynb\" target=\"_parent\"><img src=\"https://colab.research.google.com/assets/colab-badge.svg\" alt=\"Open In Colab\"/></a>"
      ]
    },
    {
      "cell_type": "code",
      "execution_count": 1,
      "metadata": {
        "id": "JKx3BB8H1-hW"
      },
      "outputs": [],
      "source": [
        "import numpy as np"
      ]
    },
    {
      "cell_type": "code",
      "source": [
        "url = 'https://raw.githubusercontent.com/allanspadini/numpy/dados/citrus.csv'"
      ],
      "metadata": {
        "id": "F2TIMsiF2EYo"
      },
      "execution_count": 2,
      "outputs": []
    },
    {
      "cell_type": "code",
      "source": [
        "dados = np.loadtxt(url,delimiter=',',skiprows=1,usecols=np.arange(1,6,1))"
      ],
      "metadata": {
        "id": "cevF0Zo42NFn"
      },
      "execution_count": 4,
      "outputs": []
    },
    {
      "cell_type": "code",
      "source": [
        "dados"
      ],
      "metadata": {
        "colab": {
          "base_uri": "https://localhost:8080/"
        },
        "id": "tcTxQCJa3SWX",
        "outputId": "71019ebe-1a5e-4dcd-9d02-c50e5c228caf"
      },
      "execution_count": 5,
      "outputs": [
        {
          "output_type": "execute_result",
          "data": {
            "text/plain": [
              "array([[  2.96,  86.76, 172.  ,  85.  ,   2.  ],\n",
              "       [  3.91,  88.05, 166.  ,  78.  ,   3.  ],\n",
              "       [  4.42,  95.17, 156.  ,  81.  ,   2.  ],\n",
              "       ...,\n",
              "       [ 15.59, 256.5 , 168.  ,  82.  ,  20.  ],\n",
              "       [ 15.92, 260.14, 142.  ,  72.  ,  11.  ],\n",
              "       [ 16.45, 261.51, 152.  ,  74.  ,   2.  ]])"
            ]
          },
          "metadata": {},
          "execution_count": 5
        }
      ]
    },
    {
      "cell_type": "code",
      "source": [
        "dados.shape"
      ],
      "metadata": {
        "colab": {
          "base_uri": "https://localhost:8080/"
        },
        "id": "WCj16Qhp3WVF",
        "outputId": "7762d9f3-e42f-4f60-f1fa-2b1c619e28da"
      },
      "execution_count": 7,
      "outputs": [
        {
          "output_type": "execute_result",
          "data": {
            "text/plain": [
              "(10000, 5)"
            ]
          },
          "metadata": {},
          "execution_count": 7
        }
      ]
    },
    {
      "cell_type": "code",
      "source": [
        "dados.ndim"
      ],
      "metadata": {
        "colab": {
          "base_uri": "https://localhost:8080/"
        },
        "id": "iEw_hnBr3dNu",
        "outputId": "0d52f848-9960-45ac-997a-29730d19ca75"
      },
      "execution_count": 9,
      "outputs": [
        {
          "output_type": "execute_result",
          "data": {
            "text/plain": [
              "2"
            ]
          },
          "metadata": {},
          "execution_count": 9
        }
      ]
    },
    {
      "cell_type": "code",
      "source": [
        "dados.T"
      ],
      "metadata": {
        "colab": {
          "base_uri": "https://localhost:8080/"
        },
        "id": "OHCaL0D33eIO",
        "outputId": "fe90c5bd-f12e-477f-f81d-805021ed137c"
      },
      "execution_count": 10,
      "outputs": [
        {
          "output_type": "execute_result",
          "data": {
            "text/plain": [
              "array([[  2.96,   3.91,   4.42, ...,  15.59,  15.92,  16.45],\n",
              "       [ 86.76,  88.05,  95.17, ..., 256.5 , 260.14, 261.51],\n",
              "       [172.  , 166.  , 156.  , ..., 168.  , 142.  , 152.  ],\n",
              "       [ 85.  ,  78.  ,  81.  , ...,  82.  ,  72.  ,  74.  ],\n",
              "       [  2.  ,   3.  ,   2.  , ...,  20.  ,  11.  ,   2.  ]])"
            ]
          },
          "metadata": {},
          "execution_count": 10
        }
      ]
    },
    {
      "cell_type": "code",
      "source": [],
      "metadata": {
        "id": "E02PJxyb3_-l"
      },
      "execution_count": null,
      "outputs": []
    }
  ]
}