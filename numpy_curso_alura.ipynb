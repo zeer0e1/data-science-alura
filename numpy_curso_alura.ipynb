{
  "nbformat": 4,
  "nbformat_minor": 0,
  "metadata": {
    "colab": {
      "provenance": [],
      "cell_execution_strategy": "setup",
      "authorship_tag": "ABX9TyNiEC7qYSRqcVSIho+KG2MY",
      "include_colab_link": true
    },
    "kernelspec": {
      "name": "python3",
      "display_name": "Python 3"
    },
    "language_info": {
      "name": "python"
    }
  },
  "cells": [
    {
      "cell_type": "markdown",
      "metadata": {
        "id": "view-in-github",
        "colab_type": "text"
      },
      "source": [
        "<a href=\"https://colab.research.google.com/github/zeer0e1/data-science-alura/blob/main/numpy_curso_alura.ipynb\" target=\"_parent\"><img src=\"https://colab.research.google.com/assets/colab-badge.svg\" alt=\"Open In Colab\"/></a>"
      ]
    },
    {
      "cell_type": "code",
      "execution_count": 1,
      "metadata": {
        "id": "wqbKhoyGurGp"
      },
      "outputs": [],
      "source": [
        "import numpy as np"
      ]
    },
    {
      "cell_type": "code",
      "source": [
        "url = 'https://raw.githubusercontent.com/alura-cursos/numpy/dados/apples_ts.csv'"
      ],
      "metadata": {
        "id": "tRxuCxgLx3RN"
      },
      "execution_count": 5,
      "outputs": []
    },
    {
      "cell_type": "code",
      "source": [
        "dado = np.loadtxt(url,delimiter=',',usecols=np.arange(1,88,1))"
      ],
      "metadata": {
        "id": "P6T9ke_ov_Gu"
      },
      "execution_count": 7,
      "outputs": []
    },
    {
      "cell_type": "code",
      "source": [
        "np.arange(1,88,1)"
      ],
      "metadata": {
        "id": "A2M9Tn5QwMT9"
      },
      "execution_count": null,
      "outputs": []
    },
    {
      "cell_type": "code",
      "source": [],
      "metadata": {
        "id": "4y5n9n75xjqW"
      },
      "execution_count": null,
      "outputs": []
    }
  ]
}